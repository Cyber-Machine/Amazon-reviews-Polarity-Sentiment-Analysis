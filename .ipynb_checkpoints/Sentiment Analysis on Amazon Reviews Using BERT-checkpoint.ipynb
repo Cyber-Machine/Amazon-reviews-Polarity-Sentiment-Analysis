{
 "cells": [
  {
   "cell_type": "markdown",
   "id": "3a780a2c",
   "metadata": {},
   "source": [
    "# Sentiment Analysis on Amazon Reviews\n",
    "- Problem Statement\n",
    "Perform a sentiment analysis on [Amazon Reviews-Polarity](https://course.fast.ai/datasets).\n",
    "\n",
    "## About the dataset\n",
    "34,686,770 Amazon reviews from 6,643,669 users on 2,441,053 products, from the Stanford Network Analysis Project (SNAP). This subset contains 1,800,000 training samples and 200,000 testing samples in each polarity sentiment.\n",
    "### Description\n",
    "The Amazon reviews polarity dataset is constructed by taking review score 1 and 2 as negative, and 4 and 5 as positive. Samples of score 3 is ignored. In the dataset, class 1 is the negative and class 2 is the positive. Each class has 1,800,000 training samples and 200,000 testing samples.\n",
    "\n",
    "The files train.csv and test.csv contain all the training samples as comma-sparated values. There are 3 columns in them, corresponding to class index (1 or 2), review title and review text. The review title and text are escaped using double quotes (\"), and any internal double quote is escaped by 2 double quotes (\"\"). New lines are escaped by a backslash followed with an \"n\" character, that is \"\\n\".\n"
   ]
  },
  {
   "cell_type": "markdown",
   "id": "0e827f58",
   "metadata": {},
   "source": [
    "### Importing the Dataset\n",
    "I have downloaded the dataset from the above link into my local system. Let's import dataset into this notebook."
   ]
  },
  {
   "cell_type": "code",
   "execution_count": 1,
   "id": "013ae2f0",
   "metadata": {},
   "outputs": [],
   "source": [
    "# Importing Libraries\n",
    "import pandas as pd\n",
    "import numpy as np\n",
    "import seaborn as sns\n",
    "import matplotlib.pyplot as plt\n",
    "%matplotlib inline"
   ]
  },
  {
   "cell_type": "code",
   "execution_count": 2,
   "id": "9803be67",
   "metadata": {},
   "outputs": [],
   "source": [
    "df = pd.read_csv(\"/home/eyepatch/Amazon reviews-Polarity Sentiment Analysis/Dataset/train.csv\",header = None)"
   ]
  },
  {
   "cell_type": "code",
   "execution_count": 3,
   "id": "b8e97c77",
   "metadata": {},
   "outputs": [
    {
     "data": {
      "text/html": [
       "<div>\n",
       "<style scoped>\n",
       "    .dataframe tbody tr th:only-of-type {\n",
       "        vertical-align: middle;\n",
       "    }\n",
       "\n",
       "    .dataframe tbody tr th {\n",
       "        vertical-align: top;\n",
       "    }\n",
       "\n",
       "    .dataframe thead th {\n",
       "        text-align: right;\n",
       "    }\n",
       "</style>\n",
       "<table border=\"1\" class=\"dataframe\">\n",
       "  <thead>\n",
       "    <tr style=\"text-align: right;\">\n",
       "      <th></th>\n",
       "      <th>class</th>\n",
       "      <th>title</th>\n",
       "      <th>text</th>\n",
       "    </tr>\n",
       "  </thead>\n",
       "  <tbody>\n",
       "    <tr>\n",
       "      <th>0</th>\n",
       "      <td>2</td>\n",
       "      <td>Stuning even for the non-gamer</td>\n",
       "      <td>This sound track was beautiful! It paints the ...</td>\n",
       "    </tr>\n",
       "    <tr>\n",
       "      <th>1</th>\n",
       "      <td>2</td>\n",
       "      <td>The best soundtrack ever to anything.</td>\n",
       "      <td>I'm reading a lot of reviews saying that this ...</td>\n",
       "    </tr>\n",
       "    <tr>\n",
       "      <th>2</th>\n",
       "      <td>2</td>\n",
       "      <td>Amazing!</td>\n",
       "      <td>This soundtrack is my favorite music of all ti...</td>\n",
       "    </tr>\n",
       "    <tr>\n",
       "      <th>3</th>\n",
       "      <td>2</td>\n",
       "      <td>Excellent Soundtrack</td>\n",
       "      <td>I truly like this soundtrack and I enjoy video...</td>\n",
       "    </tr>\n",
       "    <tr>\n",
       "      <th>4</th>\n",
       "      <td>2</td>\n",
       "      <td>Remember, Pull Your Jaw Off The Floor After He...</td>\n",
       "      <td>If you've played the game, you know how divine...</td>\n",
       "    </tr>\n",
       "  </tbody>\n",
       "</table>\n",
       "</div>"
      ],
      "text/plain": [
       "   class                                              title  \\\n",
       "0      2                     Stuning even for the non-gamer   \n",
       "1      2              The best soundtrack ever to anything.   \n",
       "2      2                                           Amazing!   \n",
       "3      2                               Excellent Soundtrack   \n",
       "4      2  Remember, Pull Your Jaw Off The Floor After He...   \n",
       "\n",
       "                                                text  \n",
       "0  This sound track was beautiful! It paints the ...  \n",
       "1  I'm reading a lot of reviews saying that this ...  \n",
       "2  This soundtrack is my favorite music of all ti...  \n",
       "3  I truly like this soundtrack and I enjoy video...  \n",
       "4  If you've played the game, you know how divine...  "
      ]
     },
     "execution_count": 3,
     "metadata": {},
     "output_type": "execute_result"
    }
   ],
   "source": [
    "df.columns = ['class','title','text']\n",
    "df.head()"
   ]
  },
  {
   "cell_type": "markdown",
   "id": "6e8461a3",
   "metadata": {},
   "source": [
    "### Data Preprocessing \n",
    "For preprocessing the Dataset we have to apply several transformations to the entire dataset viz:\n",
    "- Removing Punctuations.  `gpp.strip_punctuation`\n",
    "    - We need to remove punctuations to treat each word sentiment equally.\n",
    "- Remove stopwords .  `gpp.remove_stopwords`\n",
    "    - Words such as *the , for , in* which does not convey message to the machine should be removed.\n",
    "- Removing extra whitespaces. `gpp.strip_multiple_whitespaces`\n",
    "    - Removing extra white space for saving memory.\n",
    "- Removing small words. `gpp.strip_short`\n",
    "    - removing words with length < 3.\n",
    "- Stripping HTML Tags. `gpp.strip_tags`\n",
    "    - Removing any HTML tags that will not aid in sentiment analysis.\n",
    "- Removing Numericals `gpp.strip_numeric`\n",
    "    - Numericals not necessarily convey any meaning to our sentiments."
   ]
  },
  {
   "cell_type": "code",
   "execution_count": 4,
   "id": "1ea48731",
   "metadata": {},
   "outputs": [],
   "source": [
    "# importing preprocessing Libraries\n",
    "from nltk.stem import WordNetLemmatizer\n",
    "import gensim.parsing.preprocessing as gpp\n",
    "import gensim.utils as gu"
   ]
  },
  {
   "cell_type": "code",
   "execution_count": 5,
   "id": "82bbb902",
   "metadata": {},
   "outputs": [],
   "source": [
    "def preprocessing_data(data):\n",
    "    preprocess = [\n",
    "        gpp.strip_punctuation,\n",
    "        gpp.remove_stopwords,\n",
    "        gpp.strip_multiple_whitespaces,\n",
    "        gpp.strip_short,\n",
    "        gpp.strip_tags,\n",
    "        gpp.strip_numeric\n",
    "    ]\n",
    "    data = gu.to_unicode(data.lower().strip())\n",
    "    for pre in preprocess:\n",
    "        data = pre(data)\n",
    "    return data"
   ]
  },
  {
   "cell_type": "markdown",
   "id": "58852f84",
   "metadata": {},
   "source": [
    "Let's lemmatize this preprocessing function to our data"
   ]
  },
  {
   "cell_type": "code",
   "execution_count": 6,
   "id": "05c399d1",
   "metadata": {},
   "outputs": [],
   "source": [
    "lemmatizer = WordNetLemmatizer() "
   ]
  },
  {
   "cell_type": "code",
   "execution_count": 7,
   "id": "3684215a",
   "metadata": {},
   "outputs": [],
   "source": [
    "def lemmatize(data):\n",
    "    return lemmatizer.lemmatize(data)"
   ]
  },
  {
   "cell_type": "code",
   "execution_count": 8,
   "id": "22e42e09",
   "metadata": {},
   "outputs": [],
   "source": [
    "preprocess = lambda sentence : lemmatize(preprocessing_data(str(sentence)))"
   ]
  },
  {
   "cell_type": "markdown",
   "id": "95f1cabb",
   "metadata": {},
   "source": [
    "#### Title & Text ?\n",
    "Since Title & Text contains same sentiments in the review I think it better to represent our dataset as the combination of Title & Text, but before combining columns let's check for missing values in dataset."
   ]
  },
  {
   "cell_type": "code",
   "execution_count": 9,
   "id": "751ee8ec",
   "metadata": {},
   "outputs": [
    {
     "data": {
      "text/html": [
       "<div>\n",
       "<style scoped>\n",
       "    .dataframe tbody tr th:only-of-type {\n",
       "        vertical-align: middle;\n",
       "    }\n",
       "\n",
       "    .dataframe tbody tr th {\n",
       "        vertical-align: top;\n",
       "    }\n",
       "\n",
       "    .dataframe thead th {\n",
       "        text-align: right;\n",
       "    }\n",
       "</style>\n",
       "<table border=\"1\" class=\"dataframe\">\n",
       "  <thead>\n",
       "    <tr style=\"text-align: right;\">\n",
       "      <th></th>\n",
       "      <th>0</th>\n",
       "    </tr>\n",
       "  </thead>\n",
       "  <tbody>\n",
       "    <tr>\n",
       "      <th>class</th>\n",
       "      <td>0</td>\n",
       "    </tr>\n",
       "    <tr>\n",
       "      <th>title</th>\n",
       "      <td>77</td>\n",
       "    </tr>\n",
       "    <tr>\n",
       "      <th>text</th>\n",
       "      <td>0</td>\n",
       "    </tr>\n",
       "  </tbody>\n",
       "</table>\n",
       "</div>"
      ],
      "text/plain": [
       "        0\n",
       "class   0\n",
       "title  77\n",
       "text    0"
      ]
     },
     "execution_count": 9,
     "metadata": {},
     "output_type": "execute_result"
    }
   ],
   "source": [
    "# Missing Values in our Dataset.\n",
    "pd.DataFrame(df.isnull().sum())"
   ]
  },
  {
   "cell_type": "markdown",
   "id": "fba78af9",
   "metadata": {},
   "source": [
    "Missing `title` might be an indication of the review being not authentic therefore it is best to remove them."
   ]
  },
  {
   "cell_type": "code",
   "execution_count": 10,
   "id": "0063704f",
   "metadata": {},
   "outputs": [],
   "source": [
    "df.dropna(axis=0,how='any',inplace = True)"
   ]
  },
  {
   "cell_type": "code",
   "execution_count": 11,
   "id": "c5ff216c",
   "metadata": {},
   "outputs": [],
   "source": [
    "# Creating a column as a mix of Title and Text\n",
    "df['review'] = df['title']+\" \"+df['text']\n",
    "df = df.drop(['title','text'],axis = 1)"
   ]
  },
  {
   "cell_type": "code",
   "execution_count": 12,
   "id": "62b60f35",
   "metadata": {},
   "outputs": [
    {
     "data": {
      "text/html": [
       "<div>\n",
       "<style scoped>\n",
       "    .dataframe tbody tr th:only-of-type {\n",
       "        vertical-align: middle;\n",
       "    }\n",
       "\n",
       "    .dataframe tbody tr th {\n",
       "        vertical-align: top;\n",
       "    }\n",
       "\n",
       "    .dataframe thead th {\n",
       "        text-align: right;\n",
       "    }\n",
       "</style>\n",
       "<table border=\"1\" class=\"dataframe\">\n",
       "  <thead>\n",
       "    <tr style=\"text-align: right;\">\n",
       "      <th></th>\n",
       "      <th>class</th>\n",
       "      <th>review</th>\n",
       "    </tr>\n",
       "  </thead>\n",
       "  <tbody>\n",
       "    <tr>\n",
       "      <th>0</th>\n",
       "      <td>2</td>\n",
       "      <td>stuning non gamer sound track beautiful paints...</td>\n",
       "    </tr>\n",
       "    <tr>\n",
       "      <th>1</th>\n",
       "      <td>2</td>\n",
       "      <td>best soundtrack reading lot reviews saying bes...</td>\n",
       "    </tr>\n",
       "    <tr>\n",
       "      <th>2</th>\n",
       "      <td>2</td>\n",
       "      <td>amazing soundtrack favorite music time hands i...</td>\n",
       "    </tr>\n",
       "    <tr>\n",
       "      <th>3</th>\n",
       "      <td>2</td>\n",
       "      <td>excellent soundtrack truly like soundtrack enj...</td>\n",
       "    </tr>\n",
       "    <tr>\n",
       "      <th>4</th>\n",
       "      <td>2</td>\n",
       "      <td>remember pull jaw floor hearing played game kn...</td>\n",
       "    </tr>\n",
       "  </tbody>\n",
       "</table>\n",
       "</div>"
      ],
      "text/plain": [
       "   class                                             review\n",
       "0      2  stuning non gamer sound track beautiful paints...\n",
       "1      2  best soundtrack reading lot reviews saying bes...\n",
       "2      2  amazing soundtrack favorite music time hands i...\n",
       "3      2  excellent soundtrack truly like soundtrack enj...\n",
       "4      2  remember pull jaw floor hearing played game kn..."
      ]
     },
     "execution_count": 12,
     "metadata": {},
     "output_type": "execute_result"
    }
   ],
   "source": [
    "# Applying preprocessing in full dataset\n",
    "df['review'] = (df['review']).apply(preprocess)\n",
    "df.head()"
   ]
  },
  {
   "cell_type": "markdown",
   "id": "93265f63",
   "metadata": {},
   "source": [
    "Checking distribution of Sentiments\n",
    "- Since we have to categorize our data into two types of sentiment values (i.e. either 1 or 2) we have to check if our test data have equal or nearly equal distribution of Sentiment value"
   ]
  },
  {
   "cell_type": "code",
   "execution_count": 13,
   "id": "e28e3e98",
   "metadata": {},
   "outputs": [
    {
     "data": {
      "text/html": [
       "<div>\n",
       "<style scoped>\n",
       "    .dataframe tbody tr th:only-of-type {\n",
       "        vertical-align: middle;\n",
       "    }\n",
       "\n",
       "    .dataframe tbody tr th {\n",
       "        vertical-align: top;\n",
       "    }\n",
       "\n",
       "    .dataframe thead th {\n",
       "        text-align: right;\n",
       "    }\n",
       "</style>\n",
       "<table border=\"1\" class=\"dataframe\">\n",
       "  <thead>\n",
       "    <tr style=\"text-align: right;\">\n",
       "      <th></th>\n",
       "      <th>class</th>\n",
       "    </tr>\n",
       "  </thead>\n",
       "  <tbody>\n",
       "    <tr>\n",
       "      <th>2</th>\n",
       "      <td>0.500001</td>\n",
       "    </tr>\n",
       "    <tr>\n",
       "      <th>1</th>\n",
       "      <td>0.499999</td>\n",
       "    </tr>\n",
       "  </tbody>\n",
       "</table>\n",
       "</div>"
      ],
      "text/plain": [
       "      class\n",
       "2  0.500001\n",
       "1  0.499999"
      ]
     },
     "execution_count": 13,
     "metadata": {},
     "output_type": "execute_result"
    }
   ],
   "source": [
    "pd.DataFrame(df['class'].value_counts(normalize=True))"
   ]
  },
  {
   "cell_type": "markdown",
   "id": "ad975b69",
   "metadata": {},
   "source": [
    "### Data Downsampling\n",
    "Since it is not possible to train whole data, we have to smaller dataset, there are many ways to split dataset into smaller dataset, I would like to downsample my dataset using Pandas DataFrame in-built function `sample` to get my downsampled data."
   ]
  },
  {
   "cell_type": "code",
   "execution_count": 14,
   "id": "8f1cba72",
   "metadata": {},
   "outputs": [],
   "source": [
    "downsampled_data = df.groupby('class').sample(22500)"
   ]
  },
  {
   "cell_type": "code",
   "execution_count": 15,
   "id": "b0e077c4",
   "metadata": {},
   "outputs": [
    {
     "data": {
      "text/html": [
       "<div>\n",
       "<style scoped>\n",
       "    .dataframe tbody tr th:only-of-type {\n",
       "        vertical-align: middle;\n",
       "    }\n",
       "\n",
       "    .dataframe tbody tr th {\n",
       "        vertical-align: top;\n",
       "    }\n",
       "\n",
       "    .dataframe thead th {\n",
       "        text-align: right;\n",
       "    }\n",
       "</style>\n",
       "<table border=\"1\" class=\"dataframe\">\n",
       "  <thead>\n",
       "    <tr style=\"text-align: right;\">\n",
       "      <th></th>\n",
       "      <th>class</th>\n",
       "      <th>review</th>\n",
       "    </tr>\n",
       "  </thead>\n",
       "  <tbody>\n",
       "    <tr>\n",
       "      <th>3120067</th>\n",
       "      <td>1</td>\n",
       "      <td>try break rib laughing good thing makes perfec...</td>\n",
       "    </tr>\n",
       "    <tr>\n",
       "      <th>2845653</th>\n",
       "      <td>1</td>\n",
       "      <td>disappointing follow girlfriends guide pregnan...</td>\n",
       "    </tr>\n",
       "    <tr>\n",
       "      <th>736563</th>\n",
       "      <td>1</td>\n",
       "      <td>stop prequels point writing prequel half fan b...</td>\n",
       "    </tr>\n",
       "    <tr>\n",
       "      <th>2241256</th>\n",
       "      <td>1</td>\n",
       "      <td>people love hate book fall category material o...</td>\n",
       "    </tr>\n",
       "    <tr>\n",
       "      <th>2174786</th>\n",
       "      <td>1</td>\n",
       "      <td>pleased bottles nice design flaw nipples pin s...</td>\n",
       "    </tr>\n",
       "    <tr>\n",
       "      <th>...</th>\n",
       "      <td>...</td>\n",
       "      <td>...</td>\n",
       "    </tr>\n",
       "    <tr>\n",
       "      <th>3205687</th>\n",
       "      <td>2</td>\n",
       "      <td>masters wow true fans albert collins long draw...</td>\n",
       "    </tr>\n",
       "    <tr>\n",
       "      <th>835278</th>\n",
       "      <td>2</td>\n",
       "      <td>great begining trails let forever control poss...</td>\n",
       "    </tr>\n",
       "    <tr>\n",
       "      <th>3225819</th>\n",
       "      <td>2</td>\n",
       "      <td>ferrari lenses best lens great telephoto portr...</td>\n",
       "    </tr>\n",
       "    <tr>\n",
       "      <th>1807177</th>\n",
       "      <td>2</td>\n",
       "      <td>great great price jumbo cupcake muffin pans pu...</td>\n",
       "    </tr>\n",
       "    <tr>\n",
       "      <th>2674095</th>\n",
       "      <td>2</td>\n",
       "      <td>beautiful spode soup tureen shopped spode soup...</td>\n",
       "    </tr>\n",
       "  </tbody>\n",
       "</table>\n",
       "<p>45000 rows × 2 columns</p>\n",
       "</div>"
      ],
      "text/plain": [
       "         class                                             review\n",
       "3120067      1  try break rib laughing good thing makes perfec...\n",
       "2845653      1  disappointing follow girlfriends guide pregnan...\n",
       "736563       1  stop prequels point writing prequel half fan b...\n",
       "2241256      1  people love hate book fall category material o...\n",
       "2174786      1  pleased bottles nice design flaw nipples pin s...\n",
       "...        ...                                                ...\n",
       "3205687      2  masters wow true fans albert collins long draw...\n",
       "835278       2  great begining trails let forever control poss...\n",
       "3225819      2  ferrari lenses best lens great telephoto portr...\n",
       "1807177      2  great great price jumbo cupcake muffin pans pu...\n",
       "2674095      2  beautiful spode soup tureen shopped spode soup...\n",
       "\n",
       "[45000 rows x 2 columns]"
      ]
     },
     "execution_count": 15,
     "metadata": {},
     "output_type": "execute_result"
    }
   ],
   "source": [
    "downsampled_data"
   ]
  },
  {
   "cell_type": "markdown",
   "id": "6d75d655",
   "metadata": {},
   "source": [
    "### Exploratory Data Analysis\n",
    "Let's do EDA on our `downsampled_data` to find realationships between features and target variable."
   ]
  },
  {
   "cell_type": "code",
   "execution_count": 16,
   "id": "2779011a",
   "metadata": {},
   "outputs": [],
   "source": [
    "# Importing Libraries for EDA\n",
    "from textblob import TextBlob"
   ]
  },
  {
   "cell_type": "markdown",
   "id": "2741b5d5",
   "metadata": {},
   "source": [
    "### Sentiment Polarity\n",
    "We attempt to find any relationship between the sentiment polarity of review and the class in which it is defined.\n",
    "\n",
    "In order find that we need to see how average sentiment changes with rating."
   ]
  },
  {
   "cell_type": "markdown",
   "id": "e349c279",
   "metadata": {},
   "source": [
    "In order to do that I am using `TextBlob` sentiment polarity score to check the sentiment .\n",
    "\n",
    "In this sentiment is calculated by averaging sentiments of individual words of the sentences."
   ]
  },
  {
   "cell_type": "code",
   "execution_count": 17,
   "id": "b8f27c88",
   "metadata": {},
   "outputs": [],
   "source": [
    "# Function to extract sentence's sentiment\n",
    "sentiment = lambda sentence : TextBlob(str(sentence)).sentiment.polarity"
   ]
  },
  {
   "cell_type": "code",
   "execution_count": 18,
   "id": "58424068",
   "metadata": {},
   "outputs": [],
   "source": [
    "# Applying function in a new column in dataframe\n",
    "downsampled_data['sentiment'] = downsampled_data['review'].apply(sentiment)"
   ]
  },
  {
   "cell_type": "code",
   "execution_count": 19,
   "id": "a4a2cebd",
   "metadata": {},
   "outputs": [
    {
     "data": {
      "text/html": [
       "<div>\n",
       "<style scoped>\n",
       "    .dataframe tbody tr th:only-of-type {\n",
       "        vertical-align: middle;\n",
       "    }\n",
       "\n",
       "    .dataframe tbody tr th {\n",
       "        vertical-align: top;\n",
       "    }\n",
       "\n",
       "    .dataframe thead th {\n",
       "        text-align: right;\n",
       "    }\n",
       "</style>\n",
       "<table border=\"1\" class=\"dataframe\">\n",
       "  <thead>\n",
       "    <tr style=\"text-align: right;\">\n",
       "      <th></th>\n",
       "      <th>class</th>\n",
       "      <th>review</th>\n",
       "      <th>sentiment</th>\n",
       "    </tr>\n",
       "  </thead>\n",
       "  <tbody>\n",
       "    <tr>\n",
       "      <th>3120067</th>\n",
       "      <td>1</td>\n",
       "      <td>try break rib laughing good thing makes perfec...</td>\n",
       "      <td>0.035000</td>\n",
       "    </tr>\n",
       "    <tr>\n",
       "      <th>2845653</th>\n",
       "      <td>1</td>\n",
       "      <td>disappointing follow girlfriends guide pregnan...</td>\n",
       "      <td>0.097619</td>\n",
       "    </tr>\n",
       "    <tr>\n",
       "      <th>736563</th>\n",
       "      <td>1</td>\n",
       "      <td>stop prequels point writing prequel half fan b...</td>\n",
       "      <td>0.066667</td>\n",
       "    </tr>\n",
       "    <tr>\n",
       "      <th>2241256</th>\n",
       "      <td>1</td>\n",
       "      <td>people love hate book fall category material o...</td>\n",
       "      <td>0.024874</td>\n",
       "    </tr>\n",
       "    <tr>\n",
       "      <th>2174786</th>\n",
       "      <td>1</td>\n",
       "      <td>pleased bottles nice design flaw nipples pin s...</td>\n",
       "      <td>0.488889</td>\n",
       "    </tr>\n",
       "    <tr>\n",
       "      <th>...</th>\n",
       "      <td>...</td>\n",
       "      <td>...</td>\n",
       "      <td>...</td>\n",
       "    </tr>\n",
       "    <tr>\n",
       "      <th>3205687</th>\n",
       "      <td>2</td>\n",
       "      <td>masters wow true fans albert collins long draw...</td>\n",
       "      <td>0.091667</td>\n",
       "    </tr>\n",
       "    <tr>\n",
       "      <th>835278</th>\n",
       "      <td>2</td>\n",
       "      <td>great begining trails let forever control poss...</td>\n",
       "      <td>0.131667</td>\n",
       "    </tr>\n",
       "    <tr>\n",
       "      <th>3225819</th>\n",
       "      <td>2</td>\n",
       "      <td>ferrari lenses best lens great telephoto portr...</td>\n",
       "      <td>0.660000</td>\n",
       "    </tr>\n",
       "    <tr>\n",
       "      <th>1807177</th>\n",
       "      <td>2</td>\n",
       "      <td>great great price jumbo cupcake muffin pans pu...</td>\n",
       "      <td>0.416667</td>\n",
       "    </tr>\n",
       "    <tr>\n",
       "      <th>2674095</th>\n",
       "      <td>2</td>\n",
       "      <td>beautiful spode soup tureen shopped spode soup...</td>\n",
       "      <td>0.210297</td>\n",
       "    </tr>\n",
       "  </tbody>\n",
       "</table>\n",
       "<p>45000 rows × 3 columns</p>\n",
       "</div>"
      ],
      "text/plain": [
       "         class                                             review  sentiment\n",
       "3120067      1  try break rib laughing good thing makes perfec...   0.035000\n",
       "2845653      1  disappointing follow girlfriends guide pregnan...   0.097619\n",
       "736563       1  stop prequels point writing prequel half fan b...   0.066667\n",
       "2241256      1  people love hate book fall category material o...   0.024874\n",
       "2174786      1  pleased bottles nice design flaw nipples pin s...   0.488889\n",
       "...        ...                                                ...        ...\n",
       "3205687      2  masters wow true fans albert collins long draw...   0.091667\n",
       "835278       2  great begining trails let forever control poss...   0.131667\n",
       "3225819      2  ferrari lenses best lens great telephoto portr...   0.660000\n",
       "1807177      2  great great price jumbo cupcake muffin pans pu...   0.416667\n",
       "2674095      2  beautiful spode soup tureen shopped spode soup...   0.210297\n",
       "\n",
       "[45000 rows x 3 columns]"
      ]
     },
     "execution_count": 19,
     "metadata": {},
     "output_type": "execute_result"
    }
   ],
   "source": [
    "downsampled_data"
   ]
  },
  {
   "cell_type": "markdown",
   "id": "ca1b0a62",
   "metadata": {},
   "source": [
    "Let's find coorelation between our `sentiment` & `class` values"
   ]
  },
  {
   "cell_type": "code",
   "execution_count": 20,
   "id": "92c2f79e",
   "metadata": {},
   "outputs": [],
   "source": [
    "# Importing libraries to calculate corelation\n",
    "from scipy import stats\n",
    "import seaborn as sns"
   ]
  },
  {
   "cell_type": "code",
   "execution_count": 21,
   "id": "d25c2c9d",
   "metadata": {},
   "outputs": [
    {
     "data": {
      "text/plain": [
       "(0.5400870636128862, 0.0)"
      ]
     },
     "execution_count": 21,
     "metadata": {},
     "output_type": "execute_result"
    }
   ],
   "source": [
    "stats.pearsonr(downsampled_data['sentiment'],downsampled_data['class'])"
   ]
  },
  {
   "cell_type": "code",
   "execution_count": 22,
   "id": "7ce88d01",
   "metadata": {},
   "outputs": [
    {
     "data": {
      "text/plain": [
       "<AxesSubplot:>"
      ]
     },
     "execution_count": 22,
     "metadata": {},
     "output_type": "execute_result"
    },
    {
     "data": {
      "image/png": "[encoded data removed]",
      "text/plain": [
       "<Figure size 432x288 with 2 Axes>"
      ]
     },
     "metadata": {
      "needs_background": "light"
     },
     "output_type": "display_data"
    }
   ],
   "source": [
    "# Plotting coorelation\n",
    "sns.heatmap(downsampled_data.corr())"
   ]
  },
  {
   "cell_type": "markdown",
   "id": "14b9ef2d",
   "metadata": {},
   "source": [
    "We can see that there exists a positive coorelation between `sentiment` and `class` "
   ]
  },
  {
   "cell_type": "markdown",
   "id": "bb9068e7",
   "metadata": {},
   "source": [
    "Let's check 15 most common word in class."
   ]
  },
  {
   "cell_type": "code",
   "execution_count": 23,
   "id": "53bad061",
   "metadata": {},
   "outputs": [
    {
     "name": "stdout",
     "output_type": "stream",
     "text": [
      "Top 5 words in class 1 are as follows\n",
      "1. ('bad', 2980)\n",
      "2. ('waste', 2140)\n",
      "3. ('book', 12025)\n",
      "4. ('like', 6718)\n",
      "5. ('time', 4522)\n",
      "\n",
      "Top 5 words in class 2 are as follows\n",
      "1. ('little', 2473)\n",
      "2. ('book', 12597)\n",
      "3. ('like', 6149)\n",
      "4. ('read', 4978)\n",
      "5. ('time', 3933)\n",
      "\n"
     ]
    }
   ],
   "source": [
    "# Function for finding 5 Most common words in each class\n",
    "# Importing libraries\n",
    "from collections import Counter\n",
    "f_most_common = lambda data : Counter(\" \".join(data).split(\" \")).most_common(20)\n",
    "most_common = downsampled_data.groupby('class')['review'].apply(lambda sentence : f_most_common(sentence))\n",
    "\n",
    "for c in range(1,3):\n",
    "    index = c - 1 \n",
    "    print(f\"Top 5 words in class {c} are as follows\")\n",
    "    li = list(sorted(most_common.iloc[index],key = lambda x : TextBlob(x[0]).sentiment.polarity))\n",
    "    for i in range(5):\n",
    "        print(f\"{i+1}. {li[i]}\")\n",
    "    print()"
   ]
  },
  {
   "cell_type": "markdown",
   "id": "127039b2",
   "metadata": {},
   "source": [
    "As we can see the top 5 words in both of `class` , we can see that the word bad is on the first position in class 1.\n",
    "\n",
    "Suppose we have some sentence as :\n",
    "- This is bad and I will not recommend it.\n",
    "- This is not bad and I will recommend it.\n",
    "\n",
    "Both sentences have same word but convey the opposite meaning.\n",
    "\n",
    "From the above example we can see that average sentiment score from raw sentiment does not necessarily convey the correct sentiment therefore we need to capture contextual meaning of the word to perform Sentiment analysis.\n"
   ]
  },
  {
   "cell_type": "markdown",
   "id": "e6a0844d",
   "metadata": {},
   "source": [
    "### Contextualized Embeddings \n",
    "In order to capture contextualized embeddings we will be using a\n",
    "tensorflow [BERT EN uncased preprocess](https://tfhub.dev/tensorflow/bert_en_uncased_preprocess/3) to preprocess the given data and then pass it to a pre-trained deep neural network model BERT called [BERT Experts](https://tfhub.dev/google/experts/bert/wiki_books/sst2/2) which is specifically desgined to perform sentiment analysis."
   ]
  },
  {
   "cell_type": "markdown",
   "id": "350674a3",
   "metadata": {},
   "source": [
    "Let's add a custom classification neural network onto the pre-trained BERT encoder and train the model."
   ]
  },
  {
   "cell_type": "markdown",
   "id": "c2726447",
   "metadata": {},
   "source": [
    "### Why BERT Model ?\n",
    "Since words can differ in meaning from sentence to sentence, it is not good for classical classification Machine Learning model to get sentiment scores as relationship is not linearly separable.\n",
    "\n",
    "We can use many deep learning models for perfoming sentiment analysis and BERT is one of the best model to perform sentiment analysis."
   ]
  },
  {
   "cell_type": "code",
   "execution_count": 24,
   "id": "4fcb1538",
   "metadata": {},
   "outputs": [],
   "source": [
    "# Importing libraries\n",
    "from tqdm import tqdm \n",
    "import tensorflow as tf\n",
    "import tensorflow_hub as hub\n",
    "import tensorflow_text as text\n",
    "from sklearn.utils import shuffle\n",
    "from sklearn.model_selection import train_test_split"
   ]
  },
  {
   "cell_type": "code",
   "execution_count": 25,
   "id": "546adab6",
   "metadata": {},
   "outputs": [
    {
     "name": "stderr",
     "output_type": "stream",
     "text": [
      "2022-06-17 14:18:53.040768: I tensorflow/stream_executor/cuda/cuda_gpu_executor.cc:975] successful NUMA node read from SysFS had negative value (-1), but there must be at least one NUMA node, so returning NUMA node zero\n",
      "2022-06-17 14:18:53.044943: I tensorflow/stream_executor/cuda/cuda_gpu_executor.cc:975] successful NUMA node read from SysFS had negative value (-1), but there must be at least one NUMA node, so returning NUMA node zero\n",
      "2022-06-17 14:18:53.045096: I tensorflow/stream_executor/cuda/cuda_gpu_executor.cc:975] successful NUMA node read from SysFS had negative value (-1), but there must be at least one NUMA node, so returning NUMA node zero\n",
      "2022-06-17 14:18:53.045413: I tensorflow/core/platform/cpu_feature_guard.cc:193] This TensorFlow binary is optimized with oneAPI Deep Neural Network Library (oneDNN) to use the following CPU instructions in performance-critical operations:  AVX2 FMA\n",
      "To enable them in other operations, rebuild TensorFlow with the appropriate compiler flags.\n",
      "2022-06-17 14:18:53.045859: I tensorflow/stream_executor/cuda/cuda_gpu_executor.cc:975] successful NUMA node read from SysFS had negative value (-1), but there must be at least one NUMA node, so returning NUMA node zero\n",
      "2022-06-17 14:18:53.045991: I tensorflow/stream_executor/cuda/cuda_gpu_executor.cc:975] successful NUMA node read from SysFS had negative value (-1), but there must be at least one NUMA node, so returning NUMA node zero\n",
      "2022-06-17 14:18:53.046106: I tensorflow/stream_executor/cuda/cuda_gpu_executor.cc:975] successful NUMA node read from SysFS had negative value (-1), but there must be at least one NUMA node, so returning NUMA node zero\n",
      "2022-06-17 14:18:53.288667: I tensorflow/stream_executor/cuda/cuda_gpu_executor.cc:975] successful NUMA node read from SysFS had negative value (-1), but there must be at least one NUMA node, so returning NUMA node zero\n",
      "2022-06-17 14:18:53.288838: I tensorflow/stream_executor/cuda/cuda_gpu_executor.cc:975] successful NUMA node read from SysFS had negative value (-1), but there must be at least one NUMA node, so returning NUMA node zero\n",
      "2022-06-17 14:18:53.288964: I tensorflow/stream_executor/cuda/cuda_gpu_executor.cc:975] successful NUMA node read from SysFS had negative value (-1), but there must be at least one NUMA node, so returning NUMA node zero\n",
      "2022-06-17 14:18:53.289061: I tensorflow/core/common_runtime/gpu/gpu_device.cc:1532] Created device /job:localhost/replica:0/task:0/device:GPU:0 with 4129 MB memory:  -> device: 0, name: NVIDIA GeForce RTX 3060 Laptop GPU, pci bus id: 0000:01:00.0, compute capability: 8.6\n"
     ]
    }
   ],
   "source": [
    "def build_classifier_model():\n",
    "    text_input = tf.keras.layers.Input(shape=(), dtype=tf.string, name='txt_input')\n",
    "    bert_input = hub.KerasLayer('https://tfhub.dev/tensorflow/bert_en_uncased_preprocess/3', name='preprocessing')(text_input)\n",
    "    bert_output=hub.KerasLayer('https://tfhub.dev/google/experts/bert/wiki_books/sst2/2' , name = 'BERT_encoder')(bert_input)\n",
    "    clf_input = bert_output['pooled_output']\n",
    "    clf = tf.keras.layers.Dropout(0.1)(clf_input) \n",
    "    clf = tf.keras.layers.Dense(400, activation='sigmoid', kernel_regularizer='l2')(clf)\n",
    "    clf = tf.keras.layers.Dropout(0.10)(clf)\n",
    "    clf = tf.keras.layers.Dense(2, activation='relu', name='clf')(clf)\n",
    "    return tf.keras.Model(text_input, clf)\n",
    "\n",
    "model = build_classifier_model() "
   ]
  },
  {
   "cell_type": "code",
   "execution_count": 26,
   "id": "9ba10990",
   "metadata": {},
   "outputs": [
    {
     "data": {
      "image/png": "[encoded data removed]",
      "text/plain": [
       "<IPython.core.display.Image object>"
      ]
     },
     "execution_count": 26,
     "metadata": {},
     "output_type": "execute_result"
    }
   ],
   "source": [
    "tf.keras.utils.plot_model(model)"
   ]
  },
  {
   "cell_type": "markdown",
   "id": "b8a69a4d",
   "metadata": {},
   "source": [
    "Since I want to predict my output as 1 or 2 , I will use `SparseCategorical` as my loss function and optimizer I will use `Adam Optimizer` ."
   ]
  },
  {
   "cell_type": "code",
   "execution_count": 27,
   "id": "f4aea57e",
   "metadata": {},
   "outputs": [],
   "source": [
    "# Implementing Early Stopping \n",
    "callback = tf.keras.callbacks.EarlyStopping(monitor='loss', patience=3)"
   ]
  },
  {
   "cell_type": "code",
   "execution_count": 28,
   "id": "7792b37d",
   "metadata": {},
   "outputs": [],
   "source": [
    "loss = tf.keras.losses.SparseCategoricalCrossentropy(from_logits=True)\n",
    "metrics = [tf.metrics.SparseCategoricalAccuracy()]\n",
    "optimizer = tf.keras.optimizers.Adam()\n",
    "model.compile(loss=loss, optimizer=optimizer, metrics=metrics)"
   ]
  },
  {
   "cell_type": "code",
   "execution_count": 29,
   "id": "9d6b31a3",
   "metadata": {},
   "outputs": [
    {
     "name": "stdout",
     "output_type": "stream",
     "text": [
      "| X_train: (10800,) - X_val: (2700,) - X_test: (1500,) | \n",
      "| y_train: (10800,) - y_val: (2700,) - y_test: (1500,) | \n"
     ]
    }
   ],
   "source": [
    "# Create train , validation and test sets \n",
    "train_data = shuffle(downsampled_data)[:15000]\n",
    "X = train_data['review'].to_numpy()\n",
    "y = train_data['class'].to_numpy() - 1\n",
    "X_train, X_test, y_train, y_test = train_test_split(X, y, test_size=0.1)\n",
    "X_train, X_val, y_train, y_val = train_test_split(X_train, y_train, test_size=0.2)\n",
    "print(f\"| X_train: {X_train.shape} - X_val: {X_val.shape} - X_test: {X_test.shape} | \\n\" +\n",
    "    f\"| y_train: {y_train.shape} - y_val: {y_val.shape} - y_test: {y_test.shape} | \")"
   ]
  },
  {
   "cell_type": "code",
   "execution_count": 30,
   "id": "2fbd2da2",
   "metadata": {},
   "outputs": [
    {
     "name": "stdout",
     "output_type": "stream",
     "text": [
      "Epoch 1/25\n"
     ]
    },
    {
     "name": "stderr",
     "output_type": "stream",
     "text": [
      "2022-06-17 14:19:04.963186: I tensorflow/stream_executor/cuda/cuda_blas.cc:1786] TensorFloat-32 will be used for the matrix multiplication. This will only be logged once.\n"
     ]
    },
    {
     "name": "stdout",
     "output_type": "stream",
     "text": [
      "85/85 [==============================] - 95s 1s/step - loss: 2.0136 - sparse_categorical_accuracy: 0.8278 - val_loss: 0.6050 - val_sparse_categorical_accuracy: 0.8374\n",
      "Epoch 2/25\n",
      "85/85 [==============================] - 91s 1s/step - loss: 0.5535 - sparse_categorical_accuracy: 0.8314 - val_loss: 0.5491 - val_sparse_categorical_accuracy: 0.8341\n",
      "Epoch 3/25\n",
      "85/85 [==============================] - 91s 1s/step - loss: 0.5411 - sparse_categorical_accuracy: 0.8385 - val_loss: 0.5492 - val_sparse_categorical_accuracy: 0.8396\n",
      "Epoch 4/25\n",
      "85/85 [==============================] - 92s 1s/step - loss: 0.5430 - sparse_categorical_accuracy: 0.8358 - val_loss: 0.5517 - val_sparse_categorical_accuracy: 0.8326\n",
      "Epoch 5/25\n",
      "85/85 [==============================] - 92s 1s/step - loss: 0.5447 - sparse_categorical_accuracy: 0.8376 - val_loss: 0.5548 - val_sparse_categorical_accuracy: 0.8274\n",
      "Epoch 6/25\n",
      "85/85 [==============================] - 93s 1s/step - loss: 0.5366 - sparse_categorical_accuracy: 0.8431 - val_loss: 0.5540 - val_sparse_categorical_accuracy: 0.8300\n",
      "Epoch 7/25\n",
      "85/85 [==============================] - 92s 1s/step - loss: 0.5435 - sparse_categorical_accuracy: 0.8372 - val_loss: 0.5559 - val_sparse_categorical_accuracy: 0.8337\n",
      "Epoch 8/25\n",
      "85/85 [==============================] - 92s 1s/step - loss: 0.5385 - sparse_categorical_accuracy: 0.8399 - val_loss: 0.5475 - val_sparse_categorical_accuracy: 0.8415\n",
      "Epoch 9/25\n",
      "85/85 [==============================] - 91s 1s/step - loss: 0.5401 - sparse_categorical_accuracy: 0.8392 - val_loss: 0.5468 - val_sparse_categorical_accuracy: 0.8422\n",
      "Epoch 10/25\n",
      "85/85 [==============================] - 92s 1s/step - loss: 0.5430 - sparse_categorical_accuracy: 0.8351 - val_loss: 0.5500 - val_sparse_categorical_accuracy: 0.8337\n",
      "Epoch 11/25\n",
      "85/85 [==============================] - 92s 1s/step - loss: 0.5388 - sparse_categorical_accuracy: 0.8420 - val_loss: 0.5519 - val_sparse_categorical_accuracy: 0.8326\n",
      "Epoch 12/25\n",
      "85/85 [==============================] - 92s 1s/step - loss: 0.5433 - sparse_categorical_accuracy: 0.8401 - val_loss: 0.5538 - val_sparse_categorical_accuracy: 0.8367\n",
      "Epoch 13/25\n",
      "85/85 [==============================] - 92s 1s/step - loss: 0.5439 - sparse_categorical_accuracy: 0.8376 - val_loss: 0.5553 - val_sparse_categorical_accuracy: 0.8281\n",
      "Epoch 14/25\n",
      "85/85 [==============================] - 92s 1s/step - loss: 0.5470 - sparse_categorical_accuracy: 0.8346 - val_loss: 0.5491 - val_sparse_categorical_accuracy: 0.8400\n",
      "Epoch 15/25\n",
      "85/85 [==============================] - 93s 1s/step - loss: 0.5429 - sparse_categorical_accuracy: 0.8362 - val_loss: 0.5593 - val_sparse_categorical_accuracy: 0.8367\n",
      "Epoch 16/25\n",
      "85/85 [==============================] - 92s 1s/step - loss: 0.5399 - sparse_categorical_accuracy: 0.8417 - val_loss: 0.5549 - val_sparse_categorical_accuracy: 0.8189\n",
      "Epoch 17/25\n",
      "85/85 [==============================] - 92s 1s/step - loss: 0.5388 - sparse_categorical_accuracy: 0.8391 - val_loss: 0.5521 - val_sparse_categorical_accuracy: 0.8404\n",
      "Epoch 18/25\n",
      "85/85 [==============================] - 92s 1s/step - loss: 0.5456 - sparse_categorical_accuracy: 0.8359 - val_loss: 0.5601 - val_sparse_categorical_accuracy: 0.8189\n",
      "Epoch 19/25\n",
      "85/85 [==============================] - 93s 1s/step - loss: 0.5395 - sparse_categorical_accuracy: 0.8419 - val_loss: 0.5493 - val_sparse_categorical_accuracy: 0.8415\n",
      "Epoch 20/25\n",
      "85/85 [==============================] - 92s 1s/step - loss: 0.5402 - sparse_categorical_accuracy: 0.8430 - val_loss: 0.5604 - val_sparse_categorical_accuracy: 0.8278\n",
      "Epoch 21/25\n",
      "85/85 [==============================] - 93s 1s/step - loss: 0.5397 - sparse_categorical_accuracy: 0.8402 - val_loss: 0.5498 - val_sparse_categorical_accuracy: 0.8407\n",
      "Epoch 22/25\n",
      "85/85 [==============================] - 92s 1s/step - loss: 0.5430 - sparse_categorical_accuracy: 0.8375 - val_loss: 0.5501 - val_sparse_categorical_accuracy: 0.8304\n",
      "Epoch 23/25\n",
      "85/85 [==============================] - 91s 1s/step - loss: 0.5433 - sparse_categorical_accuracy: 0.8368 - val_loss: 0.5667 - val_sparse_categorical_accuracy: 0.8074\n",
      "Epoch 24/25\n",
      "85/85 [==============================] - 92s 1s/step - loss: 0.5455 - sparse_categorical_accuracy: 0.8338 - val_loss: 0.5614 - val_sparse_categorical_accuracy: 0.8278\n",
      "Epoch 25/25\n",
      "85/85 [==============================] - 92s 1s/step - loss: 0.5374 - sparse_categorical_accuracy: 0.8430 - val_loss: 0.5469 - val_sparse_categorical_accuracy: 0.8400\n"
     ]
    }
   ],
   "source": [
    "history = model.fit(X_train, y_train, epochs=25, batch_size = 128 , validation_data=(X_val, y_val))"
   ]
  },
  {
   "cell_type": "code",
   "execution_count": 31,
   "id": "3817e18c",
   "metadata": {},
   "outputs": [
    {
     "name": "stdout",
     "output_type": "stream",
     "text": [
      "47/47 [==============================] - 8s 173ms/step - loss: 0.5385 - sparse_categorical_accuracy: 0.8587\n"
     ]
    },
    {
     "data": {
      "text/plain": [
       "[0.5385180711746216, 0.8586666584014893]"
      ]
     },
     "execution_count": 31,
     "metadata": {},
     "output_type": "execute_result"
    }
   ],
   "source": [
    "model.evaluate(X_test, y_test)"
   ]
  },
  {
   "cell_type": "markdown",
   "id": "f8f73ae5",
   "metadata": {},
   "source": [
    "#### Results\n",
    "We have achieved an accuracy of *`85.67%`* on our test data with a loss of *`0.53`*."
   ]
  },
  {
   "cell_type": "markdown",
   "id": "b741c78e",
   "metadata": {},
   "source": [
    "### Testing data that is given with dataset.\n",
    "The dataset already contains a test data for performing test and evaluation of our model. Let's perform testing in that dataset and find accuracy.\n"
   ]
  },
  {
   "cell_type": "code",
   "execution_count": 34,
   "id": "8bfde450",
   "metadata": {},
   "outputs": [
    {
     "data": {
      "text/html": [
       "<div>\n",
       "<style scoped>\n",
       "    .dataframe tbody tr th:only-of-type {\n",
       "        vertical-align: middle;\n",
       "    }\n",
       "\n",
       "    .dataframe tbody tr th {\n",
       "        vertical-align: top;\n",
       "    }\n",
       "\n",
       "    .dataframe thead th {\n",
       "        text-align: right;\n",
       "    }\n",
       "</style>\n",
       "<table border=\"1\" class=\"dataframe\">\n",
       "  <thead>\n",
       "    <tr style=\"text-align: right;\">\n",
       "      <th></th>\n",
       "      <th>class</th>\n",
       "      <th>title</th>\n",
       "      <th>text</th>\n",
       "    </tr>\n",
       "  </thead>\n",
       "  <tbody>\n",
       "    <tr>\n",
       "      <th>0</th>\n",
       "      <td>2</td>\n",
       "      <td>Great CD</td>\n",
       "      <td>My lovely Pat has one of the GREAT voices of h...</td>\n",
       "    </tr>\n",
       "    <tr>\n",
       "      <th>1</th>\n",
       "      <td>2</td>\n",
       "      <td>One of the best game music soundtracks - for a...</td>\n",
       "      <td>Despite the fact that I have only played a sma...</td>\n",
       "    </tr>\n",
       "    <tr>\n",
       "      <th>2</th>\n",
       "      <td>1</td>\n",
       "      <td>Batteries died within a year ...</td>\n",
       "      <td>I bought this charger in Jul 2003 and it worke...</td>\n",
       "    </tr>\n",
       "    <tr>\n",
       "      <th>3</th>\n",
       "      <td>2</td>\n",
       "      <td>works fine, but Maha Energy is better</td>\n",
       "      <td>Check out Maha Energy's website. Their Powerex...</td>\n",
       "    </tr>\n",
       "    <tr>\n",
       "      <th>4</th>\n",
       "      <td>2</td>\n",
       "      <td>Great for the non-audiophile</td>\n",
       "      <td>Reviewed quite a bit of the combo players and ...</td>\n",
       "    </tr>\n",
       "  </tbody>\n",
       "</table>\n",
       "</div>"
      ],
      "text/plain": [
       "   class                                              title  \\\n",
       "0      2                                           Great CD   \n",
       "1      2  One of the best game music soundtracks - for a...   \n",
       "2      1                   Batteries died within a year ...   \n",
       "3      2              works fine, but Maha Energy is better   \n",
       "4      2                       Great for the non-audiophile   \n",
       "\n",
       "                                                text  \n",
       "0  My lovely Pat has one of the GREAT voices of h...  \n",
       "1  Despite the fact that I have only played a sma...  \n",
       "2  I bought this charger in Jul 2003 and it worke...  \n",
       "3  Check out Maha Energy's website. Their Powerex...  \n",
       "4  Reviewed quite a bit of the combo players and ...  "
      ]
     },
     "execution_count": 34,
     "metadata": {},
     "output_type": "execute_result"
    }
   ],
   "source": [
    "# Importing the dataset\n",
    "test = pd.read_csv(\"/home/eyepatch/Amazon reviews-Polarity Sentiment Analysis/Dataset/test.csv\" , header = None)\n",
    "test.columns = ['class','title','text']\n",
    "test.head()"
   ]
  },
  {
   "cell_type": "code",
   "execution_count": 35,
   "id": "2ae5da99",
   "metadata": {},
   "outputs": [
    {
     "data": {
      "text/html": [
       "<div>\n",
       "<style scoped>\n",
       "    .dataframe tbody tr th:only-of-type {\n",
       "        vertical-align: middle;\n",
       "    }\n",
       "\n",
       "    .dataframe tbody tr th {\n",
       "        vertical-align: top;\n",
       "    }\n",
       "\n",
       "    .dataframe thead th {\n",
       "        text-align: right;\n",
       "    }\n",
       "</style>\n",
       "<table border=\"1\" class=\"dataframe\">\n",
       "  <thead>\n",
       "    <tr style=\"text-align: right;\">\n",
       "      <th></th>\n",
       "      <th>class</th>\n",
       "      <th>review</th>\n",
       "    </tr>\n",
       "  </thead>\n",
       "  <tbody>\n",
       "    <tr>\n",
       "      <th>0</th>\n",
       "      <td>2</td>\n",
       "      <td>great lovely pat great voices generation liste...</td>\n",
       "    </tr>\n",
       "    <tr>\n",
       "      <th>1</th>\n",
       "      <td>2</td>\n",
       "      <td>best game music soundtracks game play despite ...</td>\n",
       "    </tr>\n",
       "    <tr>\n",
       "      <th>2</th>\n",
       "      <td>1</td>\n",
       "      <td>batteries died year bought charger jul  worked...</td>\n",
       "    </tr>\n",
       "    <tr>\n",
       "      <th>3</th>\n",
       "      <td>2</td>\n",
       "      <td>works fine maha energy better check maha energ...</td>\n",
       "    </tr>\n",
       "    <tr>\n",
       "      <th>4</th>\n",
       "      <td>2</td>\n",
       "      <td>great non audiophile reviewed bit combo player...</td>\n",
       "    </tr>\n",
       "  </tbody>\n",
       "</table>\n",
       "</div>"
      ],
      "text/plain": [
       "   class                                             review\n",
       "0      2  great lovely pat great voices generation liste...\n",
       "1      2  best game music soundtracks game play despite ...\n",
       "2      1  batteries died year bought charger jul  worked...\n",
       "3      2  works fine maha energy better check maha energ...\n",
       "4      2  great non audiophile reviewed bit combo player..."
      ]
     },
     "execution_count": 35,
     "metadata": {},
     "output_type": "execute_result"
    }
   ],
   "source": [
    "# Preprocessing the dataset \n",
    "test['review'] = test['title']+\" \"+test['text']\n",
    "test = test.drop(['title','text'],axis = 1)\n",
    "test['review'] = (test['review']).apply(preprocess)\n",
    "test.head()"
   ]
  },
  {
   "cell_type": "code",
   "execution_count": 36,
   "id": "3ac0ed7e",
   "metadata": {},
   "outputs": [
    {
     "name": "stdout",
     "output_type": "stream",
     "text": [
      "12500/12500 [==============================] - 2193s 175ms/step - loss: 0.5353 - sparse_categorical_accuracy: 0.8454\n"
     ]
    },
    {
     "data": {
      "text/plain": [
       "[0.5352916121482849, 0.8454499840736389]"
      ]
     },
     "execution_count": 36,
     "metadata": {},
     "output_type": "execute_result"
    }
   ],
   "source": [
    "model.evaluate(test['review'].to_numpy() , test['class'].to_numpy() -1 )"
   ]
  },
  {
   "cell_type": "markdown",
   "id": "8f48cf3a",
   "metadata": {},
   "source": [
    "Looks like we have achieved an overall accuracy of *`84.54%`* ."
   ]
  },
  {
   "cell_type": "markdown",
   "id": "e3be4f4e",
   "metadata": {},
   "source": [
    "## Limitations & Improvements\n",
    "### Limitations\n",
    "- I didn't trained the model on the entire dataset.\n",
    "- Data Augmetation was not applied.\n",
    "\n",
    "### Improvements\n",
    "- Efficient Feature Engineering can be done on the data that can make the model to generalize well \n",
    "- Data augmentation can be applied to improve performance and accuracy on the data.\n",
    "- Increasing batch size and training for more iterations can be done."
   ]
  },
  {
   "cell_type": "markdown",
   "id": "d9cf4e80",
   "metadata": {},
   "source": [
    "---------"
   ]
  }
 ],
 "metadata": {
  "kernelspec": {
   "display_name": "Python 3 (ipykernel)",
   "language": "python",
   "name": "python3"
  },
  "language_info": {
   "codemirror_mode": {
    "name": "ipython",
    "version": 3
   },
   "file_extension": ".py",
   "mimetype": "text/x-python",
   "name": "python",
   "nbconvert_exporter": "python",
   "pygments_lexer": "ipython3",
   "version": "3.9.12"
  }
 },
 "nbformat": 4,
 "nbformat_minor": 5
}
